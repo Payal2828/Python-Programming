{
 "cells": [
  {
   "cell_type": "markdown",
   "id": "8099a9b3-89ac-4c1d-948b-dbdef8423484",
   "metadata": {},
   "source": [
    "# TUPLES\n"
   ]
  },
  {
   "cell_type": "code",
   "execution_count": 2,
   "id": "e2eb32f1-1fe7-475b-a320-d5181d2e82bb",
   "metadata": {},
   "outputs": [],
   "source": [
    "t=()"
   ]
  },
  {
   "cell_type": "code",
   "execution_count": 4,
   "id": "f95624f3-5c61-4bd1-96fe-0ae3809403ce",
   "metadata": {},
   "outputs": [
    {
     "data": {
      "text/plain": [
       "tuple"
      ]
     },
     "execution_count": 4,
     "metadata": {},
     "output_type": "execute_result"
    }
   ],
   "source": [
    "type(t)"
   ]
  },
  {
   "cell_type": "code",
   "execution_count": 5,
   "id": "0ae5bc4c-8f5c-4c42-a7e7-0d7a15e61114",
   "metadata": {},
   "outputs": [],
   "source": [
    "t=[]"
   ]
  },
  {
   "cell_type": "code",
   "execution_count": 6,
   "id": "80899250-5efd-489b-9a7f-dbbeb5a367fe",
   "metadata": {},
   "outputs": [
    {
     "data": {
      "text/plain": [
       "list"
      ]
     },
     "execution_count": 6,
     "metadata": {},
     "output_type": "execute_result"
    }
   ],
   "source": [
    "type(t)"
   ]
  },
  {
   "cell_type": "markdown",
   "id": "253423ed-c418-4e4b-b931-18104968078e",
   "metadata": {},
   "source": [
    "NOTE:-MAJOR DIFFERENCE BETWEEN LIST AND TUPLE IS OF BRACKETS"
   ]
  },
  {
   "cell_type": "code",
   "execution_count": 7,
   "id": "ef3d2d4b-61a2-4384-8416-e6d1508a2a0c",
   "metadata": {},
   "outputs": [
    {
     "data": {
      "text/plain": [
       "tuple"
      ]
     },
     "execution_count": 7,
     "metadata": {},
     "output_type": "execute_result"
    }
   ],
   "source": [
    "t1=(1,2,3,4,45,45.5,45+7j,\"payal\",True)\n",
    "type(t1)  #tuple can have integers,decimals,bool,as well as string values)"
   ]
  },
  {
   "cell_type": "code",
   "execution_count": 8,
   "id": "cfff9cb3-9474-4923-a948-e7925a4e8554",
   "metadata": {},
   "outputs": [
    {
     "data": {
      "text/plain": [
       "(1, 2, 3, 4, 45, 45.5, (45+7j), 'payal', True)"
      ]
     },
     "execution_count": 8,
     "metadata": {},
     "output_type": "execute_result"
    }
   ],
   "source": [
    "t1"
   ]
  },
  {
   "cell_type": "code",
   "execution_count": 11,
   "id": "b8cb529f-b8e3-4c2c-bf08-da0b04af2235",
   "metadata": {},
   "outputs": [
    {
     "data": {
      "text/plain": [
       "1"
      ]
     },
     "execution_count": 11,
     "metadata": {},
     "output_type": "execute_result"
    }
   ],
   "source": [
    "#extracting elements from tuple\n",
    "t1[0] #tuples are ordered and are indexed starting from 0"
   ]
  },
  {
   "cell_type": "code",
   "execution_count": 10,
   "id": "6608add9-fa58-4bd8-914f-8a2102874117",
   "metadata": {},
   "outputs": [
    {
     "data": {
      "text/plain": [
       "'payal'"
      ]
     },
     "execution_count": 10,
     "metadata": {},
     "output_type": "execute_result"
    }
   ],
   "source": [
    "t1[7]"
   ]
  },
  {
   "cell_type": "code",
   "execution_count": 12,
   "id": "dcfeb393-7ec4-4c69-91ef-e8ea08473aa6",
   "metadata": {},
   "outputs": [
    {
     "data": {
      "text/plain": [
       "True"
      ]
     },
     "execution_count": 12,
     "metadata": {},
     "output_type": "execute_result"
    }
   ],
   "source": [
    "t1[-1]"
   ]
  },
  {
   "cell_type": "code",
   "execution_count": 13,
   "id": "10962f1d-e01e-425c-83a9-fa965f83d8ca",
   "metadata": {},
   "outputs": [
    {
     "data": {
      "text/plain": [
       "(True, 'payal', (45+7j), 45.5, 45, 4, 3, 2, 1)"
      ]
     },
     "execution_count": 13,
     "metadata": {},
     "output_type": "execute_result"
    }
   ],
   "source": [
    "t1[::-1]"
   ]
  },
  {
   "cell_type": "code",
   "execution_count": 14,
   "id": "48a877ac-5ff2-4b31-b364-fff12841ca47",
   "metadata": {},
   "outputs": [
    {
     "data": {
      "text/plain": [
       "(1, 2, 3)"
      ]
     },
     "execution_count": 14,
     "metadata": {},
     "output_type": "execute_result"
    }
   ],
   "source": [
    "t1[0:3:1]"
   ]
  },
  {
   "cell_type": "code",
   "execution_count": 6,
   "id": "a9549915-b573-4ff2-ae4c-0a0a7ed723b8",
   "metadata": {},
   "outputs": [],
   "source": [
    "t1=(1,2,3,4,45,45.5,45+7j,\"payal\",True)"
   ]
  },
  {
   "cell_type": "code",
   "execution_count": 8,
   "id": "d4f28cd4-78e5-41dd-8c6d-e8278e58f050",
   "metadata": {},
   "outputs": [
    {
     "data": {
      "text/plain": [
       "1"
      ]
     },
     "execution_count": 8,
     "metadata": {},
     "output_type": "execute_result"
    }
   ],
   "source": [
    "t1.count(4)"
   ]
  },
  {
   "cell_type": "code",
   "execution_count": 9,
   "id": "b1233f09-2e5f-4fe6-a5e4-0f95a9c27302",
   "metadata": {},
   "outputs": [
    {
     "data": {
      "text/plain": [
       "0"
      ]
     },
     "execution_count": 9,
     "metadata": {},
     "output_type": "execute_result"
    }
   ],
   "source": [
    "t1.count(\"a\")"
   ]
  },
  {
   "cell_type": "code",
   "execution_count": 13,
   "id": "7504d4fc-c8d5-42fb-b6ed-34425a5ca840",
   "metadata": {},
   "outputs": [
    {
     "data": {
      "text/plain": [
       "4"
      ]
     },
     "execution_count": 13,
     "metadata": {},
     "output_type": "execute_result"
    }
   ],
   "source": [
    "t1.index(45)"
   ]
  },
  {
   "cell_type": "code",
   "execution_count": 14,
   "id": "4759ba47-d7b0-4575-9d24-b4ea13df882d",
   "metadata": {},
   "outputs": [
    {
     "data": {
      "text/plain": [
       "(1, 2, 3, 4, 45, 45.5, (45+7j), 'payal', True)"
      ]
     },
     "execution_count": 14,
     "metadata": {},
     "output_type": "execute_result"
    }
   ],
   "source": [
    "t1"
   ]
  },
  {
   "cell_type": "code",
   "execution_count": 15,
   "id": "bc934bfb-84e7-4c6a-b95d-2a89a39dbebd",
   "metadata": {},
   "outputs": [
    {
     "ename": "TypeError",
     "evalue": "'tuple' object does not support item assignment",
     "output_type": "error",
     "traceback": [
      "\u001b[0;31m---------------------------------------------------------------------------\u001b[0m",
      "\u001b[0;31mTypeError\u001b[0m                                 Traceback (most recent call last)",
      "Cell \u001b[0;32mIn[15], line 1\u001b[0m\n\u001b[0;32m----> 1\u001b[0m \u001b[43mt1\u001b[49m\u001b[43m[\u001b[49m\u001b[38;5;241;43m0\u001b[39;49m\u001b[43m]\u001b[49m\u001b[38;5;241m=\u001b[39m\u001b[38;5;241m3\u001b[39m\n",
      "\u001b[0;31mTypeError\u001b[0m: 'tuple' object does not support item assignment"
     ]
    }
   ],
   "source": [
    "t1[0]=3 #tuple is immutable"
   ]
  },
  {
   "cell_type": "code",
   "execution_count": 17,
   "id": "d4133d23-da60-45ad-a4b2-7c7cf0bb38e0",
   "metadata": {},
   "outputs": [
    {
     "name": "stdout",
     "output_type": "stream",
     "text": [
      "1 <class 'int'>\n",
      "2 <class 'int'>\n",
      "3 <class 'int'>\n",
      "4 <class 'int'>\n",
      "45 <class 'int'>\n",
      "45.5 <class 'float'>\n",
      "(45+7j) <class 'complex'>\n",
      "payal <class 'str'>\n",
      "True <class 'bool'>\n"
     ]
    }
   ],
   "source": [
    "for i in t1:\n",
    "    print(i,type(i))"
   ]
  },
  {
   "cell_type": "code",
   "execution_count": 18,
   "id": "5ea0b633-72ab-41ab-838f-d0b7126b5927",
   "metadata": {},
   "outputs": [],
   "source": [
    "t2=(1,2,3,3,4)"
   ]
  },
  {
   "cell_type": "code",
   "execution_count": 19,
   "id": "13201095-b6ed-464e-af2f-181086c422ba",
   "metadata": {},
   "outputs": [
    {
     "data": {
      "text/plain": [
       "(1, 2, 3, 3, 4, 1, 2, 3, 3, 4, 1, 2, 3, 3, 4)"
      ]
     },
     "execution_count": 19,
     "metadata": {},
     "output_type": "execute_result"
    }
   ],
   "source": [
    "t2*3"
   ]
  },
  {
   "cell_type": "code",
   "execution_count": 20,
   "id": "9e98b8de-1e9e-4197-aebc-8a2fcd40b8ec",
   "metadata": {},
   "outputs": [
    {
     "data": {
      "text/plain": [
       "4"
      ]
     },
     "execution_count": 20,
     "metadata": {},
     "output_type": "execute_result"
    }
   ],
   "source": [
    "max(t2)"
   ]
  },
  {
   "cell_type": "code",
   "execution_count": 22,
   "id": "4eb8dd17-b421-4528-8646-ca1df73e5dbe",
   "metadata": {},
   "outputs": [
    {
     "data": {
      "text/plain": [
       "1"
      ]
     },
     "execution_count": 22,
     "metadata": {},
     "output_type": "execute_result"
    }
   ],
   "source": [
    "min(t2)"
   ]
  },
  {
   "cell_type": "code",
   "execution_count": 23,
   "id": "85d7e37b-0b7f-479a-a9f4-7563f0588946",
   "metadata": {},
   "outputs": [
    {
     "data": {
      "text/plain": [
       "(1, 2, 3, 4, 45, 45.5, (45+7j), 'payal', True, 1, 2, 3, 3, 4)"
      ]
     },
     "execution_count": 23,
     "metadata": {},
     "output_type": "execute_result"
    }
   ],
   "source": [
    "t1+t2"
   ]
  },
  {
   "cell_type": "code",
   "execution_count": 24,
   "id": "5a9bbf98-3e18-4b4d-8a79-bcdb92b2a8a9",
   "metadata": {},
   "outputs": [],
   "source": [
    "t1=(1,2,3,4)\n",
    "t2=(4,5,6,7,8)"
   ]
  },
  {
   "cell_type": "code",
   "execution_count": 25,
   "id": "5f5336c5-6aaf-44c3-9c76-e8d8d77ce03d",
   "metadata": {},
   "outputs": [],
   "source": [
    "t3=(t1,t2)"
   ]
  },
  {
   "cell_type": "code",
   "execution_count": 26,
   "id": "01336d83-271b-47bb-9aa1-475b5c665ef6",
   "metadata": {},
   "outputs": [
    {
     "data": {
      "text/plain": [
       "((1, 2, 3, 4), (4, 5, 6, 7, 8))"
      ]
     },
     "execution_count": 26,
     "metadata": {},
     "output_type": "execute_result"
    }
   ],
   "source": [
    "t3"
   ]
  },
  {
   "cell_type": "code",
   "execution_count": 1,
   "id": "e8af5f14-925d-4b8e-ad64-5e173bf11b15",
   "metadata": {},
   "outputs": [
    {
     "data": {
      "text/plain": [
       "((1, 2, 3, 4), [4, 5, 6, 7])"
      ]
     },
     "execution_count": 1,
     "metadata": {},
     "output_type": "execute_result"
    }
   ],
   "source": [
    "t4=((1,2,3,4),[4,5,6,7])\n",
    "t4"
   ]
  },
  {
   "cell_type": "code",
   "execution_count": 2,
   "id": "51f5b20c-5a1e-4af4-98d3-a86e18a87366",
   "metadata": {},
   "outputs": [],
   "source": [
    "del t4 #to delete tuple"
   ]
  },
  {
   "cell_type": "code",
   "execution_count": 3,
   "id": "17c02f52-9b87-4dca-9afe-3a6d51ed8d6c",
   "metadata": {},
   "outputs": [
    {
     "ename": "NameError",
     "evalue": "name 't4' is not defined",
     "output_type": "error",
     "traceback": [
      "\u001b[0;31m---------------------------------------------------------------------------\u001b[0m",
      "\u001b[0;31mNameError\u001b[0m                                 Traceback (most recent call last)",
      "Cell \u001b[0;32mIn[3], line 1\u001b[0m\n\u001b[0;32m----> 1\u001b[0m \u001b[43mt4\u001b[49m\n",
      "\u001b[0;31mNameError\u001b[0m: name 't4' is not defined"
     ]
    }
   ],
   "source": [
    "t4"
   ]
  },
  {
   "cell_type": "code",
   "execution_count": 7,
   "id": "0693d514-722f-4f16-b2a5-edf5c1cdb687",
   "metadata": {},
   "outputs": [],
   "source": [
    "t1=(1,2,3,4)"
   ]
  },
  {
   "cell_type": "code",
   "execution_count": 8,
   "id": "41a246f8-09e6-46be-9bd8-5752aca4d811",
   "metadata": {},
   "outputs": [
    {
     "data": {
      "text/plain": [
       "4"
      ]
     },
     "execution_count": 8,
     "metadata": {},
     "output_type": "execute_result"
    }
   ],
   "source": [
    "len(t1)"
   ]
  }
 ],
 "metadata": {
  "kernelspec": {
   "display_name": "Python 3 (ipykernel)",
   "language": "python",
   "name": "python3"
  },
  "language_info": {
   "codemirror_mode": {
    "name": "ipython",
    "version": 3
   },
   "file_extension": ".py",
   "mimetype": "text/x-python",
   "name": "python",
   "nbconvert_exporter": "python",
   "pygments_lexer": "ipython3",
   "version": "3.10.8"
  }
 },
 "nbformat": 4,
 "nbformat_minor": 5
}
