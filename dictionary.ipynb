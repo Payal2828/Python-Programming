{
 "cells": [
  {
   "cell_type": "markdown",
   "id": "fd149e58-2ceb-4e01-9061-1929480e5d98",
   "metadata": {},
   "source": [
    "# DICTIONARY"
   ]
  },
  {
   "cell_type": "code",
   "execution_count": 1,
   "id": "38d57a87-4853-4e41-a7ea-ddf8db8a2d4e",
   "metadata": {},
   "outputs": [],
   "source": [
    "d={}"
   ]
  },
  {
   "cell_type": "code",
   "execution_count": 2,
   "id": "1a6db171-9a50-4aec-93a9-69bfb730262d",
   "metadata": {},
   "outputs": [
    {
     "data": {
      "text/plain": [
       "dict"
      ]
     },
     "execution_count": 2,
     "metadata": {},
     "output_type": "execute_result"
    }
   ],
   "source": [
    "type(d)"
   ]
  },
  {
   "cell_type": "code",
   "execution_count": 5,
   "id": "a542c953-8823-42eb-a0c9-351db6bcecaa",
   "metadata": {},
   "outputs": [],
   "source": [
    "d1={\"name\" : \"payal\",\"email_id\" : \"pp@gmail.com\"}"
   ]
  },
  {
   "cell_type": "code",
   "execution_count": 6,
   "id": "103e182b-68f6-408a-ae58-7e30b7656450",
   "metadata": {},
   "outputs": [
    {
     "data": {
      "text/plain": [
       "dict"
      ]
     },
     "execution_count": 6,
     "metadata": {},
     "output_type": "execute_result"
    }
   ],
   "source": [
    "type(d1)"
   ]
  },
  {
   "cell_type": "code",
   "execution_count": 7,
   "id": "e022499a-f000-482e-994a-c5959dab2209",
   "metadata": {},
   "outputs": [],
   "source": [
    "d1={\"name\" : \"payal\",\"email_id\" : \"pp@gmail.com\" , \"number\" : 123 }"
   ]
  },
  {
   "cell_type": "code",
   "execution_count": 8,
   "id": "a17e74d4-bb89-4766-a45c-9aba397d966d",
   "metadata": {},
   "outputs": [
    {
     "data": {
      "text/plain": [
       "dict"
      ]
     },
     "execution_count": 8,
     "metadata": {},
     "output_type": "execute_result"
    }
   ],
   "source": [
    "type(d1)"
   ]
  },
  {
   "cell_type": "code",
   "execution_count": 9,
   "id": "c1b88bc7-9d2f-4c44-8153-752927164097",
   "metadata": {},
   "outputs": [],
   "source": [
    "d2={\"name\" : \"pay\", \"name\" : \"payal\"}"
   ]
  },
  {
   "cell_type": "code",
   "execution_count": 10,
   "id": "bd06cb5a-3062-4151-bcc6-26f5e312675e",
   "metadata": {},
   "outputs": [
    {
     "data": {
      "text/plain": [
       "{'name': 'payal'}"
      ]
     },
     "execution_count": 10,
     "metadata": {},
     "output_type": "execute_result"
    }
   ],
   "source": [
    "d2"
   ]
  },
  {
   "cell_type": "code",
   "execution_count": 11,
   "id": "ce196f4f-05bf-4748-89b1-c7c6d2514eae",
   "metadata": {},
   "outputs": [],
   "source": [
    "d3={234 : \"abc\"}"
   ]
  },
  {
   "cell_type": "code",
   "execution_count": 12,
   "id": "3c364ceb-c0df-4def-95f0-d49d7e66945d",
   "metadata": {},
   "outputs": [
    {
     "data": {
      "text/plain": [
       "{234: 'abc'}"
      ]
     },
     "execution_count": 12,
     "metadata": {},
     "output_type": "execute_result"
    }
   ],
   "source": [
    "d3"
   ]
  },
  {
   "cell_type": "code",
   "execution_count": 14,
   "id": "5dd64730-ef75-4231-b4a0-7e4dcb31dbb4",
   "metadata": {},
   "outputs": [],
   "source": [
    "d4={234.45 : \"abc\"}"
   ]
  },
  {
   "cell_type": "code",
   "execution_count": 15,
   "id": "f3cff9fa-5783-4a47-b486-c0f1f85d8365",
   "metadata": {},
   "outputs": [
    {
     "data": {
      "text/plain": [
       "{234.45: 'abc'}"
      ]
     },
     "execution_count": 15,
     "metadata": {},
     "output_type": "execute_result"
    }
   ],
   "source": [
    "d4"
   ]
  },
  {
   "cell_type": "code",
   "execution_count": 16,
   "id": "76fc32f2-ef79-4e72-a356-c763ba20bcec",
   "metadata": {},
   "outputs": [],
   "source": [
    "d5={True : \"abc\"}"
   ]
  },
  {
   "cell_type": "code",
   "execution_count": 17,
   "id": "fd711a9b-b698-442e-b391-9a584a440b81",
   "metadata": {},
   "outputs": [
    {
     "data": {
      "text/plain": [
       "{True: 'abc'}"
      ]
     },
     "execution_count": 17,
     "metadata": {},
     "output_type": "execute_result"
    }
   ],
   "source": [
    "d5"
   ]
  },
  {
   "cell_type": "code",
   "execution_count": 21,
   "id": "3a8d117a-b7f2-4e10-8c56-bb034e492e80",
   "metadata": {},
   "outputs": [
    {
     "ename": "SyntaxError",
     "evalue": "incomplete input (3399481298.py, line 1)",
     "output_type": "error",
     "traceback": [
      "\u001b[0;36m  Cell \u001b[0;32mIn[21], line 1\u001b[0;36m\u001b[0m\n\u001b[0;31m    d6={# : \"abc\" } #special letters are not allowed as keys\u001b[0m\n\u001b[0m                                                            ^\u001b[0m\n\u001b[0;31mSyntaxError\u001b[0m\u001b[0;31m:\u001b[0m incomplete input\n"
     ]
    }
   ],
   "source": [
    "d6={# : \"abc\" } #special letters are not allowed as keys"
   ]
  },
  {
   "cell_type": "code",
   "execution_count": 22,
   "id": "d8abf197-3e8c-406c-b2d0-c7150946d5ff",
   "metadata": {},
   "outputs": [
    {
     "ename": "TypeError",
     "evalue": "unhashable type: 'list'",
     "output_type": "error",
     "traceback": [
      "\u001b[0;31m---------------------------------------------------------------------------\u001b[0m",
      "\u001b[0;31mTypeError\u001b[0m                                 Traceback (most recent call last)",
      "Cell \u001b[0;32mIn[22], line 1\u001b[0m\n\u001b[0;32m----> 1\u001b[0m d7 \u001b[38;5;241m=\u001b[39m {[\u001b[38;5;241m1\u001b[39m,\u001b[38;5;241m2\u001b[39m,\u001b[38;5;241m3\u001b[39m] : \u001b[38;5;124m\"\u001b[39m\u001b[38;5;124mabc\u001b[39m\u001b[38;5;124m\"\u001b[39m}\n",
      "\u001b[0;31mTypeError\u001b[0m: unhashable type: 'list'"
     ]
    }
   ],
   "source": [
    "d7 = {[1,2,3] : \"abc\"}"
   ]
  },
  {
   "cell_type": "code",
   "execution_count": 23,
   "id": "e473f14d-b04d-43ac-a993-149a9bcb3c60",
   "metadata": {},
   "outputs": [],
   "source": [
    "d8 = {(1,2,3) : \"abc\"}"
   ]
  },
  {
   "cell_type": "code",
   "execution_count": 24,
   "id": "c1ac4eac-818e-497a-979e-bc6b3014be76",
   "metadata": {},
   "outputs": [
    {
     "data": {
      "text/plain": [
       "{(1, 2, 3): 'abc'}"
      ]
     },
     "execution_count": 24,
     "metadata": {},
     "output_type": "execute_result"
    }
   ],
   "source": [
    "d8"
   ]
  },
  {
   "cell_type": "code",
   "execution_count": 25,
   "id": "f3adbf66-0756-4384-9493-86b7201dc741",
   "metadata": {},
   "outputs": [
    {
     "ename": "TypeError",
     "evalue": "unhashable type: 'set'",
     "output_type": "error",
     "traceback": [
      "\u001b[0;31m---------------------------------------------------------------------------\u001b[0m",
      "\u001b[0;31mTypeError\u001b[0m                                 Traceback (most recent call last)",
      "Cell \u001b[0;32mIn[25], line 1\u001b[0m\n\u001b[0;32m----> 1\u001b[0m d9 \u001b[38;5;241m=\u001b[39m {{\u001b[38;5;241m1\u001b[39m,\u001b[38;5;241m2\u001b[39m,\u001b[38;5;241m3\u001b[39m} : \u001b[38;5;124m\"\u001b[39m\u001b[38;5;124mabc\u001b[39m\u001b[38;5;124m\"\u001b[39m}\n",
      "\u001b[0;31mTypeError\u001b[0m: unhashable type: 'set'"
     ]
    }
   ],
   "source": [
    "d9 = {{1,2,3} : \"abc\"}"
   ]
  },
  {
   "cell_type": "code",
   "execution_count": 28,
   "id": "51e6d43f-4424-40e5-a08c-a7ec20a20bb4",
   "metadata": {},
   "outputs": [],
   "source": [
    "d10 ={\"course_name\" : [\"data science masters\" \"ba\",\"msc\"]}"
   ]
  },
  {
   "cell_type": "code",
   "execution_count": 29,
   "id": "36d183b3-a6cb-48b2-941d-47f69e3db590",
   "metadata": {},
   "outputs": [
    {
     "data": {
      "text/plain": [
       "{'course_name': ['data science mastersba', 'msc']}"
      ]
     },
     "execution_count": 29,
     "metadata": {},
     "output_type": "execute_result"
    }
   ],
   "source": [
    "d10"
   ]
  },
  {
   "cell_type": "code",
   "execution_count": 31,
   "id": "7eb7e162-0914-48d5-8e09-77627ee348f7",
   "metadata": {},
   "outputs": [],
   "source": [
    "d11 ={\"key\" :(1,2,3,4,5)}"
   ]
  },
  {
   "cell_type": "code",
   "execution_count": 32,
   "id": "6482b163-06c9-41fa-8af2-4d1a571be664",
   "metadata": {},
   "outputs": [
    {
     "data": {
      "text/plain": [
       "{'key': (1, 2, 3, 4, 5)}"
      ]
     },
     "execution_count": 32,
     "metadata": {},
     "output_type": "execute_result"
    }
   ],
   "source": [
    "d11"
   ]
  },
  {
   "cell_type": "code",
   "execution_count": 33,
   "id": "a8186c4b-b667-43c9-9e7a-9d5f0e561b94",
   "metadata": {},
   "outputs": [],
   "source": [
    "d12 ={\"key\" :{1,2,3,4,5}}"
   ]
  },
  {
   "cell_type": "code",
   "execution_count": 34,
   "id": "0f778fd2-6d88-4cd8-b774-c642aeaa20bf",
   "metadata": {},
   "outputs": [
    {
     "data": {
      "text/plain": [
       "{'key': {1, 2, 3, 4, 5}}"
      ]
     },
     "execution_count": 34,
     "metadata": {},
     "output_type": "execute_result"
    }
   ],
   "source": [
    "d12"
   ]
  },
  {
   "cell_type": "code",
   "execution_count": 35,
   "id": "c492d227-ee6a-40dd-9f5e-f450119078f2",
   "metadata": {},
   "outputs": [],
   "source": [
    "d13 ={\"key\" :{\"name\" : \"payal\" ,\"course\" : \"masters\"}}"
   ]
  },
  {
   "cell_type": "code",
   "execution_count": 36,
   "id": "a72e8cb0-05a0-47e1-a2a1-cf1239e87bd7",
   "metadata": {},
   "outputs": [
    {
     "data": {
      "text/plain": [
       "{'key': {'name': 'payal', 'course': 'masters'}}"
      ]
     },
     "execution_count": 36,
     "metadata": {},
     "output_type": "execute_result"
    }
   ],
   "source": [
    "d13"
   ]
  },
  {
   "cell_type": "code",
   "execution_count": 39,
   "id": "fb1898f5-6e13-4158-8f55-091e6d465e88",
   "metadata": {},
   "outputs": [],
   "source": [
    "d13[\"timing\"]=(6,7,8) #to add elements"
   ]
  },
  {
   "cell_type": "code",
   "execution_count": 38,
   "id": "441ffb31-3e92-4c70-86b2-d181ad388111",
   "metadata": {},
   "outputs": [
    {
     "data": {
      "text/plain": [
       "{'key': {'name': 'payal', 'course': 'masters'}, 'timing': (6, 7, 8)}"
      ]
     },
     "execution_count": 38,
     "metadata": {},
     "output_type": "execute_result"
    }
   ],
   "source": [
    "d13"
   ]
  },
  {
   "cell_type": "code",
   "execution_count": 42,
   "id": "33c0fb8b-f610-4ddb-b7cc-8edf6a99a738",
   "metadata": {},
   "outputs": [
    {
     "data": {
      "text/plain": [
       "(6, 7, 8)"
      ]
     },
     "execution_count": 42,
     "metadata": {},
     "output_type": "execute_result"
    }
   ],
   "source": [
    "d13[\"timing\"] #extracting data"
   ]
  },
  {
   "cell_type": "code",
   "execution_count": 43,
   "id": "f14a2ed0-5c4d-461c-a4e0-4af3a7728a6f",
   "metadata": {},
   "outputs": [
    {
     "data": {
      "text/plain": [
       "tuple"
      ]
     },
     "execution_count": 43,
     "metadata": {},
     "output_type": "execute_result"
    }
   ],
   "source": [
    "type(d13[\"timing\"])"
   ]
  },
  {
   "cell_type": "code",
   "execution_count": 44,
   "id": "b2d334da-9bc0-46dd-939f-b717405ce2ab",
   "metadata": {},
   "outputs": [
    {
     "data": {
      "text/plain": [
       "'payal'"
      ]
     },
     "execution_count": 44,
     "metadata": {},
     "output_type": "execute_result"
    }
   ],
   "source": [
    "d13[\"key\"][\"name\"]"
   ]
  },
  {
   "cell_type": "code",
   "execution_count": 45,
   "id": "6b53f3e0-6d21-42cc-89d2-f3b4e1e344c2",
   "metadata": {},
   "outputs": [],
   "source": [
    "del d13[\"timing\"]"
   ]
  },
  {
   "cell_type": "code",
   "execution_count": 46,
   "id": "519242cb-67ea-4463-925a-f492b47d2ebe",
   "metadata": {},
   "outputs": [
    {
     "data": {
      "text/plain": [
       "{'key': {'name': 'payal', 'course': 'masters'}}"
      ]
     },
     "execution_count": 46,
     "metadata": {},
     "output_type": "execute_result"
    }
   ],
   "source": [
    "d13"
   ]
  },
  {
   "cell_type": "code",
   "execution_count": 47,
   "id": "3d89cb4d-870f-44c4-9162-96159d858d2f",
   "metadata": {},
   "outputs": [],
   "source": [
    "d11.clear() #clear all the elements in dictionary"
   ]
  },
  {
   "cell_type": "code",
   "execution_count": 48,
   "id": "237fa413-1372-44fd-84a8-d3af30eba308",
   "metadata": {},
   "outputs": [
    {
     "data": {
      "text/plain": [
       "{}"
      ]
     },
     "execution_count": 48,
     "metadata": {},
     "output_type": "execute_result"
    }
   ],
   "source": [
    "d11"
   ]
  },
  {
   "cell_type": "code",
   "execution_count": 49,
   "id": "c07649ac-309d-4994-8ab8-5666bafd84db",
   "metadata": {},
   "outputs": [
    {
     "data": {
      "text/plain": [
       "1"
      ]
     },
     "execution_count": 49,
     "metadata": {},
     "output_type": "execute_result"
    }
   ],
   "source": [
    "len(d13) #gives the no. of keys"
   ]
  },
  {
   "cell_type": "code",
   "execution_count": 50,
   "id": "1802fc4c-eaed-48b8-b74b-a1bd4df77e3c",
   "metadata": {},
   "outputs": [
    {
     "data": {
      "text/plain": [
       "dict_keys(['key'])"
      ]
     },
     "execution_count": 50,
     "metadata": {},
     "output_type": "execute_result"
    }
   ],
   "source": [
    "d12.keys() #to extract all the keys in the dictionary"
   ]
  },
  {
   "cell_type": "code",
   "execution_count": 51,
   "id": "9d9fd82b-e157-4385-88e9-105d50674ed8",
   "metadata": {},
   "outputs": [
    {
     "data": {
      "text/plain": [
       "dict_values([{'name': 'payal', 'course': 'masters'}])"
      ]
     },
     "execution_count": 51,
     "metadata": {},
     "output_type": "execute_result"
    }
   ],
   "source": [
    "d13.values() #to extract all the values in the dictionary"
   ]
  },
  {
   "cell_type": "code",
   "execution_count": 53,
   "id": "922a3f55-2308-42b0-9bc9-a69f10841715",
   "metadata": {},
   "outputs": [
    {
     "data": {
      "text/plain": [
       "['key']"
      ]
     },
     "execution_count": 53,
     "metadata": {},
     "output_type": "execute_result"
    }
   ],
   "source": [
    "list(d12.keys())"
   ]
  },
  {
   "cell_type": "code",
   "execution_count": 3,
   "id": "8b1d31d1-4d98-41fb-b81a-f08670b48f1b",
   "metadata": {},
   "outputs": [],
   "source": [
    "d13 ={\"key\" :{\"name\" : \"payal\" ,\"course\" : \"masters\"}}"
   ]
  },
  {
   "cell_type": "code",
   "execution_count": 4,
   "id": "3324843f-76ac-4f9b-ac7b-acb1516b7896",
   "metadata": {},
   "outputs": [],
   "source": [
    "d14= d13.copy()"
   ]
  },
  {
   "cell_type": "code",
   "execution_count": 5,
   "id": "90cb6080-173f-462b-bda4-2f360465095c",
   "metadata": {},
   "outputs": [
    {
     "data": {
      "text/plain": [
       "{'key': {'name': 'payal', 'course': 'masters'}}"
      ]
     },
     "execution_count": 5,
     "metadata": {},
     "output_type": "execute_result"
    }
   ],
   "source": [
    "d14"
   ]
  },
  {
   "cell_type": "code",
   "execution_count": 8,
   "id": "fc1bdbc8-267a-46af-bfce-86ae84d27897",
   "metadata": {},
   "outputs": [
    {
     "data": {
      "text/plain": [
       "{'name': 'payal', 'course': 'masters'}"
      ]
     },
     "execution_count": 8,
     "metadata": {},
     "output_type": "execute_result"
    }
   ],
   "source": [
    "d14.pop(\"key\") #remove specified key and return the corresponding value"
   ]
  },
  {
   "cell_type": "code",
   "execution_count": 9,
   "id": "48d8b7cb-978a-4b85-b60c-51b82cbee9be",
   "metadata": {},
   "outputs": [
    {
     "data": {
      "text/plain": [
       "{}"
      ]
     },
     "execution_count": 9,
     "metadata": {},
     "output_type": "execute_result"
    }
   ],
   "source": [
    "d14"
   ]
  },
  {
   "cell_type": "code",
   "execution_count": 12,
   "id": "44e547ef-6bdd-440f-89f8-fa9a71fb3082",
   "metadata": {},
   "outputs": [],
   "source": [
    "d={}"
   ]
  },
  {
   "cell_type": "code",
   "execution_count": 13,
   "id": "f3b67e0c-1c66-4835-a06d-b18d1d1aacd0",
   "metadata": {},
   "outputs": [
    {
     "data": {
      "text/plain": [
       "{1: ('a', 'b', 'c'), 2: ('a', 'b', 'c'), 3: ('a', 'b', 'c')}"
      ]
     },
     "execution_count": 13,
     "metadata": {},
     "output_type": "execute_result"
    }
   ],
   "source": [
    "d.fromkeys((1,2,3),('a','b','c')) #Create a new dictionary with keys from iterable and values set to value"
   ]
  },
  {
   "cell_type": "code",
   "execution_count": 14,
   "id": "04e36e07-77c5-4046-acc5-e1bab93f2b8b",
   "metadata": {},
   "outputs": [],
   "source": [
    "d19 ={\"key1\" : \"value\", \"key2\" : \"value2\"}\n",
    "d20 ={\"key3\" : \"value3\", \"key4\" : \"value4\"}"
   ]
  },
  {
   "cell_type": "code",
   "execution_count": 15,
   "id": "9d2e7e41-40b8-4b38-adef-4be8e750a653",
   "metadata": {},
   "outputs": [
    {
     "data": {
      "text/plain": [
       "({'key1': 'value', 'key2': 'value2'}, {'key3': 'value3', 'key4': 'value4'})"
      ]
     },
     "execution_count": 15,
     "metadata": {},
     "output_type": "execute_result"
    }
   ],
   "source": [
    "(d19,d20)"
   ]
  },
  {
   "cell_type": "code",
   "execution_count": 16,
   "id": "f77e434a-e8ef-4770-941b-0a7bf4f390f8",
   "metadata": {},
   "outputs": [],
   "source": [
    "d19.update(d20)"
   ]
  },
  {
   "cell_type": "code",
   "execution_count": 17,
   "id": "285a4f69-77e1-49e5-98a1-1794d97f0532",
   "metadata": {},
   "outputs": [
    {
     "data": {
      "text/plain": [
       "{'key1': 'value', 'key2': 'value2', 'key3': 'value3', 'key4': 'value4'}"
      ]
     },
     "execution_count": 17,
     "metadata": {},
     "output_type": "execute_result"
    }
   ],
   "source": [
    "d19"
   ]
  },
  {
   "cell_type": "code",
   "execution_count": 18,
   "id": "7a2560b2-90bb-4704-95df-d3fa44d4bede",
   "metadata": {},
   "outputs": [
    {
     "data": {
      "text/plain": [
       "{'key3': 'value3', 'key4': 'value4'}"
      ]
     },
     "execution_count": 18,
     "metadata": {},
     "output_type": "execute_result"
    }
   ],
   "source": [
    "d20"
   ]
  },
  {
   "cell_type": "code",
   "execution_count": 19,
   "id": "5280a998-c8f8-413b-8ad0-b7aec9dd9908",
   "metadata": {},
   "outputs": [],
   "source": [
    "d20.update(d19)"
   ]
  },
  {
   "cell_type": "code",
   "execution_count": 20,
   "id": "8e61ba65-5ecc-4863-bcd8-a423d810d001",
   "metadata": {},
   "outputs": [
    {
     "data": {
      "text/plain": [
       "{'key3': 'value3', 'key4': 'value4', 'key1': 'value', 'key2': 'value2'}"
      ]
     },
     "execution_count": 20,
     "metadata": {},
     "output_type": "execute_result"
    }
   ],
   "source": [
    "d20"
   ]
  },
  {
   "cell_type": "code",
   "execution_count": 21,
   "id": "3d85c4e1-1eb5-4323-a27b-5de65694c77c",
   "metadata": {},
   "outputs": [
    {
     "data": {
      "text/plain": [
       "{'key1': 'value', 'key2': 'value2', 'key3': 'value3', 'key4': 'value4'}"
      ]
     },
     "execution_count": 21,
     "metadata": {},
     "output_type": "execute_result"
    }
   ],
   "source": [
    "d19"
   ]
  },
  {
   "cell_type": "code",
   "execution_count": 22,
   "id": "b5863413-01b2-423c-990c-29a995f7867e",
   "metadata": {},
   "outputs": [
    {
     "data": {
      "text/plain": [
       "'value3'"
      ]
     },
     "execution_count": 22,
     "metadata": {},
     "output_type": "execute_result"
    }
   ],
   "source": [
    "d20.get(\"key3\") #Return the value for key if key is in the dictionary, else default."
   ]
  },
  {
   "cell_type": "code",
   "execution_count": 23,
   "id": "03147452-9467-4c64-8c3d-1840f0fec779",
   "metadata": {},
   "outputs": [],
   "source": [
    "d20.get(\"abd\")"
   ]
  },
  {
   "cell_type": "code",
   "execution_count": 24,
   "id": "941bd328-e5fc-4d91-b810-c19837ab99b2",
   "metadata": {},
   "outputs": [
    {
     "data": {
      "text/plain": [
       "'value3'"
      ]
     },
     "execution_count": 24,
     "metadata": {},
     "output_type": "execute_result"
    }
   ],
   "source": [
    "d20[\"key3\"]"
   ]
  },
  {
   "cell_type": "code",
   "execution_count": 25,
   "id": "4693ea91-0b98-45ff-854a-4f69a587837a",
   "metadata": {},
   "outputs": [
    {
     "ename": "KeyError",
     "evalue": "'abs'",
     "output_type": "error",
     "traceback": [
      "\u001b[0;31m---------------------------------------------------------------------------\u001b[0m",
      "\u001b[0;31mKeyError\u001b[0m                                  Traceback (most recent call last)",
      "Cell \u001b[0;32mIn[25], line 1\u001b[0m\n\u001b[0;32m----> 1\u001b[0m \u001b[43md20\u001b[49m\u001b[43m[\u001b[49m\u001b[38;5;124;43m'\u001b[39;49m\u001b[38;5;124;43mabs\u001b[39;49m\u001b[38;5;124;43m'\u001b[39;49m\u001b[43m]\u001b[49m\n",
      "\u001b[0;31mKeyError\u001b[0m: 'abs'"
     ]
    }
   ],
   "source": [
    "d20['abs']"
   ]
  },
  {
   "cell_type": "markdown",
   "id": "ef04e1ec-1299-49c1-8fc7-071f313897fc",
   "metadata": {},
   "source": [
    "## Dictionary comprehension"
   ]
  },
  {
   "cell_type": "code",
   "execution_count": 26,
   "id": "9918bf69-c8e7-457e-9442-c5992cb6f1b3",
   "metadata": {},
   "outputs": [
    {
     "data": {
      "text/plain": [
       "{1: 1, 2: 4, 3: 9, 4: 16, 5: 25, 6: 36, 7: 49, 8: 64, 9: 81, 10: 100}"
      ]
     },
     "execution_count": 26,
     "metadata": {},
     "output_type": "execute_result"
    }
   ],
   "source": [
    "{i : i**2 for i in range(1,11)}"
   ]
  },
  {
   "cell_type": "code",
   "execution_count": 27,
   "id": "2665c4d9-1227-42fa-adff-b0a7dd9b6a0a",
   "metadata": {},
   "outputs": [
    {
     "data": {
      "text/plain": [
       "{1: 11, 2: 12, 3: 13, 4: 14, 5: 15, 6: 16, 7: 17, 8: 18, 9: 19, 10: 20}"
      ]
     },
     "execution_count": 27,
     "metadata": {},
     "output_type": "execute_result"
    }
   ],
   "source": [
    "{i : i+10 for i in range(1,11)}"
   ]
  },
  {
   "cell_type": "code",
   "execution_count": 34,
   "id": "0d23c218-d8c1-45e8-a376-c306801ca746",
   "metadata": {},
   "outputs": [],
   "source": [
    "import math\n",
    "d21={i : math.log10(i) for i in range(1,11)}\n"
   ]
  },
  {
   "cell_type": "code",
   "execution_count": 31,
   "id": "5251bc15-e926-4f09-b8dd-0b888658405a",
   "metadata": {},
   "outputs": [
    {
     "data": {
      "text/plain": [
       "True"
      ]
     },
     "execution_count": 31,
     "metadata": {},
     "output_type": "execute_result"
    }
   ],
   "source": [
    "\"key1\" in d19"
   ]
  },
  {
   "cell_type": "code",
   "execution_count": 35,
   "id": "7efc8a3a-4156-434e-b8b8-d985a0fea67c",
   "metadata": {},
   "outputs": [
    {
     "data": {
      "text/plain": [
       "{1: 0.0,\n",
       " 2: 0.3010299956639812,\n",
       " 3: 0.47712125471966244,\n",
       " 4: 0.6020599913279624,\n",
       " 5: 0.6989700043360189,\n",
       " 6: 0.7781512503836436,\n",
       " 7: 0.8450980400142568,\n",
       " 8: 0.9030899869919435,\n",
       " 9: 0.9542425094393249,\n",
       " 10: 1.0}"
      ]
     },
     "execution_count": 35,
     "metadata": {},
     "output_type": "execute_result"
    }
   ],
   "source": [
    "d21"
   ]
  },
  {
   "cell_type": "code",
   "execution_count": 37,
   "id": "c0783db7-9458-48e3-9043-bf7fa1c75176",
   "metadata": {},
   "outputs": [
    {
     "name": "stdout",
     "output_type": "stream",
     "text": [
      "0.3010299956639812\n",
      "0.6020599913279624\n",
      "0.7781512503836436\n",
      "0.9030899869919435\n",
      "1.0\n"
     ]
    }
   ],
   "source": [
    "for i in d21.keys():\n",
    "    if i%2==0:\n",
    "        print(d21[i])"
   ]
  },
  {
   "cell_type": "code",
   "execution_count": null,
   "id": "ccbd8479-a6ec-465c-964c-d596e3bc4333",
   "metadata": {},
   "outputs": [],
   "source": []
  }
 ],
 "metadata": {
  "kernelspec": {
   "display_name": "Python 3 (ipykernel)",
   "language": "python",
   "name": "python3"
  },
  "language_info": {
   "codemirror_mode": {
    "name": "ipython",
    "version": 3
   },
   "file_extension": ".py",
   "mimetype": "text/x-python",
   "name": "python",
   "nbconvert_exporter": "python",
   "pygments_lexer": "ipython3",
   "version": "3.10.8"
  }
 },
 "nbformat": 4,
 "nbformat_minor": 5
}
